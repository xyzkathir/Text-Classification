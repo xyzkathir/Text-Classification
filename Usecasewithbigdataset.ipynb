{
 "cells": [
  {
   "cell_type": "markdown",
   "id": "f3bb9438",
   "metadata": {},
   "source": [
    "### Import Relevant Packages"
   ]
  },
  {
   "cell_type": "code",
   "execution_count": 2,
   "id": "126707f9",
   "metadata": {},
   "outputs": [],
   "source": [
    "import pandas as pd\n",
    "from sklearn.model_selection import train_test_split\n",
    "from sklearn.feature_extraction.text import TfidfVectorizer\n",
    "from sklearn.linear_model import LogisticRegression\n",
    "from sklearn.metrics import accuracy_score, classification_report"
   ]
  },
  {
   "cell_type": "markdown",
   "id": "e485c0a0",
   "metadata": {},
   "source": [
    "### Importing Dataset"
   ]
  },
  {
   "cell_type": "code",
   "execution_count": 24,
   "id": "708abe67",
   "metadata": {},
   "outputs": [
    {
     "name": "stdout",
     "output_type": "stream",
     "text": [
      "                                                Text Scope\n",
      "0  Best practices for database management for aut...    In\n",
      "1  Guide to using database management for AI deve...    In\n",
      "2                     What is SQL queries in finance   Out\n",
      "3   Best practices for web development for reporting    In\n",
      "4  Introduction to database management for data p...   Out\n"
     ]
    }
   ],
   "source": [
    "# Replace 'your_file.xlsx' with the path to your Excel file\n",
    "df = pd.read_excel('Enhanced_Synthetic_Data_10000.xlsx')\n",
    "\n",
    "# Display the first few rows of the dataset to inspect\n",
    "print(df.head())"
   ]
  },
  {
   "cell_type": "markdown",
   "id": "fb3f7eba",
   "metadata": {},
   "source": [
    "### splitting Dependent variable and Independent Variable"
   ]
  },
  {
   "cell_type": "code",
   "execution_count": 4,
   "id": "85fc7074",
   "metadata": {},
   "outputs": [],
   "source": [
    "X = df['Text']  # Features (text data)\n",
    "y = df['Scope']  # Target (label: 0 or 1)"
   ]
  },
  {
   "cell_type": "markdown",
   "id": "8fd889d3",
   "metadata": {},
   "source": [
    "### splitting the dataset into training and testing"
   ]
  },
  {
   "cell_type": "code",
   "execution_count": 5,
   "id": "8d3b5366",
   "metadata": {},
   "outputs": [],
   "source": [
    "X_train, X_test, y_train, y_test = train_test_split(X, y, test_size=0.2, random_state=42)\n"
   ]
  },
  {
   "cell_type": "markdown",
   "id": "1882147b",
   "metadata": {},
   "source": [
    "### converting text into neumeric - TFIDF vectorization "
   ]
  },
  {
   "cell_type": "code",
   "execution_count": 6,
   "id": "40afc55e",
   "metadata": {},
   "outputs": [],
   "source": [
    "tfidf_vectorizer = TfidfVectorizer(stop_words='english')\n",
    "X_train_tfidf = tfidf_vectorizer.fit_transform(X_train)\n",
    "X_test_tfidf = tfidf_vectorizer.transform(X_test)"
   ]
  },
  {
   "cell_type": "markdown",
   "id": "7d5c92bd",
   "metadata": {},
   "source": [
    "### Creating Logistic Regression Model"
   ]
  },
  {
   "cell_type": "code",
   "execution_count": 7,
   "id": "307da55f",
   "metadata": {},
   "outputs": [],
   "source": [
    "log_reg = LogisticRegression(max_iter=1000)"
   ]
  },
  {
   "cell_type": "markdown",
   "id": "9fd00502",
   "metadata": {},
   "source": [
    "### Training the model"
   ]
  },
  {
   "cell_type": "code",
   "execution_count": 8,
   "id": "ede3780b",
   "metadata": {
    "scrolled": true
   },
   "outputs": [
    {
     "data": {
      "text/plain": [
       "LogisticRegression(max_iter=1000)"
      ]
     },
     "execution_count": 8,
     "metadata": {},
     "output_type": "execute_result"
    }
   ],
   "source": [
    "log_reg.fit(X_train_tfidf, y_train)"
   ]
  },
  {
   "cell_type": "markdown",
   "id": "46466eaa",
   "metadata": {},
   "source": [
    "### Assessing the quality of the model"
   ]
  },
  {
   "cell_type": "code",
   "execution_count": 9,
   "id": "b06c3c89",
   "metadata": {},
   "outputs": [],
   "source": [
    "y_pred = log_reg.predict(X_test_tfidf)"
   ]
  },
  {
   "cell_type": "code",
   "execution_count": 14,
   "id": "25b8b9f7",
   "metadata": {},
   "outputs": [
    {
     "name": "stdout",
     "output_type": "stream",
     "text": [
      "Accuracy: 1.0\n"
     ]
    }
   ],
   "source": [
    "accuracy = accuracy_score(y_test, y_pred)\n",
    "print(\"Accuracy:\", accuracy)"
   ]
  },
  {
   "cell_type": "code",
   "execution_count": 15,
   "id": "36feec39",
   "metadata": {},
   "outputs": [
    {
     "name": "stdout",
     "output_type": "stream",
     "text": [
      "Classification Report:\n",
      "               precision    recall  f1-score   support\n",
      "\n",
      "          In       1.00      1.00      1.00       989\n",
      "         Out       1.00      1.00      1.00      1011\n",
      "\n",
      "    accuracy                           1.00      2000\n",
      "   macro avg       1.00      1.00      1.00      2000\n",
      "weighted avg       1.00      1.00      1.00      2000\n",
      "\n"
     ]
    }
   ],
   "source": [
    "print(\"Classification Report:\\n\", classification_report(y_test, y_pred))\n"
   ]
  },
  {
   "cell_type": "code",
   "execution_count": 12,
   "id": "ba5d2ad6",
   "metadata": {},
   "outputs": [],
   "source": [
    "from sklearn.ensemble import RandomForestClassifier"
   ]
  },
  {
   "cell_type": "code",
   "execution_count": 13,
   "id": "342a0b3c",
   "metadata": {},
   "outputs": [
    {
     "name": "stdout",
     "output_type": "stream",
     "text": [
      "Accuracy: 1.0\n"
     ]
    }
   ],
   "source": [
    "random_forest = RandomForestClassifier(n_estimators=100, random_state=42)\n",
    "\n",
    "# Train the model on the training data\n",
    "random_forest.fit(X_train_tfidf, y_train)\n",
    "\n",
    "# Make predictions on the testing data\n",
    "y_pred = random_forest.predict(X_test_tfidf)\n",
    "\n",
    "# Evaluate the model\n",
    "accuracy = accuracy_score(y_test, y_pred)\n",
    "print(\"Accuracy:\", accuracy)"
   ]
  },
  {
   "cell_type": "markdown",
   "id": "54c5d8be",
   "metadata": {},
   "source": [
    "### Prediction for user data"
   ]
  },
  {
   "cell_type": "code",
   "execution_count": 17,
   "id": "561786ff",
   "metadata": {},
   "outputs": [],
   "source": [
    "sample_pred = random_forest.predict(X_test_tfidf[0])"
   ]
  },
  {
   "cell_type": "code",
   "execution_count": 18,
   "id": "49c311d1",
   "metadata": {
    "scrolled": true
   },
   "outputs": [
    {
     "data": {
      "text/plain": [
       "array(['In'], dtype=object)"
      ]
     },
     "execution_count": 18,
     "metadata": {},
     "output_type": "execute_result"
    }
   ],
   "source": [
    "sample_pred"
   ]
  },
  {
   "cell_type": "code",
   "execution_count": 51,
   "id": "05289061",
   "metadata": {},
   "outputs": [],
   "source": [
    "df1 = pd.read_excel('sample.xlsx')"
   ]
  },
  {
   "cell_type": "code",
   "execution_count": 52,
   "id": "2fad0358",
   "metadata": {},
   "outputs": [],
   "source": [
    "input=df['Text']"
   ]
  },
  {
   "cell_type": "code",
   "execution_count": 53,
   "id": "0f0ef3a9",
   "metadata": {},
   "outputs": [],
   "source": [
    "input1=tfidf_vectorizer.fit_transform(input)"
   ]
  },
  {
   "cell_type": "code",
   "execution_count": 55,
   "id": "23be1ccf",
   "metadata": {},
   "outputs": [],
   "source": [
    "sample_pred = random_forest.predict(input1[0])"
   ]
  },
  {
   "cell_type": "code",
   "execution_count": 56,
   "id": "bb23093c",
   "metadata": {},
   "outputs": [
    {
     "data": {
      "text/plain": [
       "array(['In'], dtype=object)"
      ]
     },
     "execution_count": 56,
     "metadata": {},
     "output_type": "execute_result"
    }
   ],
   "source": [
    "sample_pred"
   ]
  },
  {
   "cell_type": "code",
   "execution_count": 35,
   "id": "c01a7de5",
   "metadata": {
    "scrolled": true
   },
   "outputs": [
    {
     "name": "stdout",
     "output_type": "stream",
     "text": [
      "Classification Report:\n",
      "               precision    recall  f1-score   support\n",
      "\n",
      "          In       1.00      1.00      1.00       989\n",
      "         Out       1.00      1.00      1.00      1011\n",
      "\n",
      "    accuracy                           1.00      2000\n",
      "   macro avg       1.00      1.00      1.00      2000\n",
      "weighted avg       1.00      1.00      1.00      2000\n",
      "\n"
     ]
    }
   ],
   "source": [
    "print(\"Classification Report:\\n\", classification_report(y_test, y_pred))"
   ]
  },
  {
   "cell_type": "markdown",
   "id": "155ee95d",
   "metadata": {},
   "source": [
    "### Applying Regularization Method - Lasso Regression"
   ]
  },
  {
   "cell_type": "code",
   "execution_count": 16,
   "id": "b41861ca",
   "metadata": {},
   "outputs": [
    {
     "name": "stdout",
     "output_type": "stream",
     "text": [
      "Accuracy with L1 Regularization: 1.0\n",
      "Classification Report:\n",
      "               precision    recall  f1-score   support\n",
      "\n",
      "          In       1.00      1.00      1.00       989\n",
      "         Out       1.00      1.00      1.00      1011\n",
      "\n",
      "    accuracy                           1.00      2000\n",
      "   macro avg       1.00      1.00      1.00      2000\n",
      "weighted avg       1.00      1.00      1.00      2000\n",
      "\n"
     ]
    }
   ],
   "source": [
    "log_reg_l1 = LogisticRegression(penalty='l1', solver='liblinear', C=1.0, max_iter=1000)\n",
    "\n",
    "# Train the model with L1 regularization\n",
    "log_reg_l1.fit(X_train_tfidf, y_train)\n",
    "\n",
    "# Make predictions\n",
    "y_pred_l1 = log_reg_l1.predict(X_test_tfidf)\n",
    "\n",
    "# Evaluate\n",
    "print(\"Accuracy with L1 Regularization:\", accuracy_score(y_test, y_pred_l1))\n",
    "print(\"Classification Report:\\n\", classification_report(y_test, y_pred_l1))"
   ]
  },
  {
   "cell_type": "code",
   "execution_count": null,
   "id": "820346ca",
   "metadata": {},
   "outputs": [],
   "source": []
  }
 ],
 "metadata": {
  "kernelspec": {
   "display_name": "Python 3",
   "language": "python",
   "name": "python3"
  },
  "language_info": {
   "codemirror_mode": {
    "name": "ipython",
    "version": 3
   },
   "file_extension": ".py",
   "mimetype": "text/x-python",
   "name": "python",
   "nbconvert_exporter": "python",
   "pygments_lexer": "ipython3",
   "version": "3.8.8"
  }
 },
 "nbformat": 4,
 "nbformat_minor": 5
}
