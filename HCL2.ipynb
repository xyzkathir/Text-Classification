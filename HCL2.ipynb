{
 "cells": [
  {
   "cell_type": "markdown",
   "id": "8731c273",
   "metadata": {},
   "source": [
    "### Import Relevant Packages "
   ]
  },
  {
   "cell_type": "code",
   "execution_count": 1,
   "id": "f5b2a7dd",
   "metadata": {},
   "outputs": [],
   "source": [
    "import pandas as pd\n",
    "from sklearn.model_selection import train_test_split\n",
    "from sklearn.feature_extraction.text import TfidfVectorizer\n",
    "from sklearn.linear_model import LogisticRegression\n",
    "from sklearn.metrics import accuracy_score, classification_report"
   ]
  },
  {
   "cell_type": "markdown",
   "id": "61722358",
   "metadata": {},
   "source": [
    "### Import Relevant Packages "
   ]
  },
  {
   "cell_type": "code",
   "execution_count": 2,
   "id": "959d2022",
   "metadata": {
    "scrolled": true
   },
   "outputs": [
    {
     "name": "stdout",
     "output_type": "stream",
     "text": [
      "                                       Text Scope\n",
      "0     How to open a New Workbook in VS Code   Out\n",
      "1           Analyze a New Workbook in Excel   Out\n",
      "2             Format a New Workbook in Word    In\n",
      "3            Share a New Workbook on GitHub    In\n",
      "4  Organize a New Workbook in Google Sheets   Out\n"
     ]
    }
   ],
   "source": [
    "# Replace 'your_file.xlsx' with the path to your Excel file\n",
    "df = pd.read_excel('Enhanced_Synthetic_Data_1000.xlsx')\n",
    "\n",
    "# Display the first few rows of the dataset to inspect\n",
    "print(df.head())"
   ]
  },
  {
   "cell_type": "markdown",
   "id": "e2e229a0",
   "metadata": {},
   "source": [
    "### Splitting Dependant Variable and Independent Variable"
   ]
  },
  {
   "cell_type": "code",
   "execution_count": 4,
   "id": "ca4750d3",
   "metadata": {},
   "outputs": [],
   "source": [
    "X = df['Text']  # Features (text data)\n",
    "y = df['Scope']  # Target (label: 0 or 1)"
   ]
  },
  {
   "cell_type": "markdown",
   "id": "b5fc6c78",
   "metadata": {},
   "source": [
    "### Splitting into Training data and Testing data"
   ]
  },
  {
   "cell_type": "code",
   "execution_count": 5,
   "id": "410f5463",
   "metadata": {},
   "outputs": [],
   "source": [
    "X_train, X_test, y_train, y_test = train_test_split(X, y, test_size=0.2, random_state=42)\n"
   ]
  },
  {
   "cell_type": "markdown",
   "id": "573705c2",
   "metadata": {},
   "source": [
    "### TfIDF Vectorization"
   ]
  },
  {
   "cell_type": "code",
   "execution_count": 6,
   "id": "9c7fd72d",
   "metadata": {},
   "outputs": [],
   "source": [
    "tfidf_vectorizer = TfidfVectorizer(stop_words='english')\n",
    "X_train_tfidf = tfidf_vectorizer.fit_transform(X_train)\n",
    "X_test_tfidf = tfidf_vectorizer.transform(X_test)"
   ]
  },
  {
   "cell_type": "markdown",
   "id": "295dd79c",
   "metadata": {},
   "source": [
    "### Creation of Logistic Regression Model"
   ]
  },
  {
   "cell_type": "code",
   "execution_count": 7,
   "id": "b8b7edbb",
   "metadata": {},
   "outputs": [],
   "source": [
    "log_reg = LogisticRegression(max_iter=1000)"
   ]
  },
  {
   "cell_type": "markdown",
   "id": "a50123ba",
   "metadata": {},
   "source": [
    "### Training The model"
   ]
  },
  {
   "cell_type": "code",
   "execution_count": 8,
   "id": "a991b40e",
   "metadata": {},
   "outputs": [
    {
     "data": {
      "text/plain": [
       "LogisticRegression(max_iter=1000)"
      ]
     },
     "execution_count": 8,
     "metadata": {},
     "output_type": "execute_result"
    }
   ],
   "source": [
    "log_reg.fit(X_train_tfidf, y_train)"
   ]
  },
  {
   "cell_type": "code",
   "execution_count": 9,
   "id": "f6da9e45",
   "metadata": {},
   "outputs": [],
   "source": [
    "y_pred = log_reg.predict(X_test_tfidf)"
   ]
  },
  {
   "cell_type": "markdown",
   "id": "384c5ae8",
   "metadata": {},
   "source": [
    "### Assessing the quality of the model"
   ]
  },
  {
   "cell_type": "code",
   "execution_count": 10,
   "id": "e5ee8e89",
   "metadata": {
    "scrolled": true
   },
   "outputs": [
    {
     "name": "stdout",
     "output_type": "stream",
     "text": [
      "Accuracy: 0.495\n"
     ]
    }
   ],
   "source": [
    "accuracy = accuracy_score(y_test, y_pred)\n",
    "print(\"Accuracy:\", accuracy)"
   ]
  },
  {
   "cell_type": "code",
   "execution_count": 11,
   "id": "535b7763",
   "metadata": {},
   "outputs": [
    {
     "name": "stdout",
     "output_type": "stream",
     "text": [
      "Classification Report:\n",
      "               precision    recall  f1-score   support\n",
      "\n",
      "          In       0.51      0.48      0.49       103\n",
      "         Out       0.48      0.52      0.50        97\n",
      "\n",
      "    accuracy                           0.49       200\n",
      "   macro avg       0.50      0.50      0.49       200\n",
      "weighted avg       0.50      0.49      0.49       200\n",
      "\n"
     ]
    }
   ],
   "source": [
    "print(\"Classification Report:\\n\", classification_report(y_test, y_pred))\n"
   ]
  },
  {
   "cell_type": "code",
   "execution_count": 14,
   "id": "33608c6c",
   "metadata": {},
   "outputs": [],
   "source": [
    "from sklearn.ensemble import RandomForestClassifier"
   ]
  },
  {
   "cell_type": "code",
   "execution_count": 15,
   "id": "5ba423b7",
   "metadata": {},
   "outputs": [
    {
     "name": "stdout",
     "output_type": "stream",
     "text": [
      "Accuracy: 0.48\n"
     ]
    }
   ],
   "source": [
    "random_forest = RandomForestClassifier(n_estimators=100, random_state=42)\n",
    "\n",
    "# Train the model on the training data\n",
    "random_forest.fit(X_train_tfidf, y_train)\n",
    "\n",
    "# Make predictions on the testing data\n",
    "y_pred = random_forest.predict(X_test_tfidf)\n",
    "\n",
    "# Evaluate the model\n",
    "accuracy = accuracy_score(y_test, y_pred)\n",
    "print(\"Accuracy:\", accuracy)"
   ]
  },
  {
   "cell_type": "code",
   "execution_count": 16,
   "id": "2fab0a89",
   "metadata": {},
   "outputs": [
    {
     "name": "stdout",
     "output_type": "stream",
     "text": [
      "Classification Report:\n",
      "               precision    recall  f1-score   support\n",
      "\n",
      "          In       0.49      0.41      0.45       103\n",
      "         Out       0.47      0.56      0.51        97\n",
      "\n",
      "    accuracy                           0.48       200\n",
      "   macro avg       0.48      0.48      0.48       200\n",
      "weighted avg       0.48      0.48      0.48       200\n",
      "\n"
     ]
    }
   ],
   "source": [
    "print(\"Classification Report:\\n\", classification_report(y_test, y_pred))"
   ]
  },
  {
   "cell_type": "markdown",
   "id": "9e28bc2d",
   "metadata": {},
   "source": [
    "### Optimizing the model"
   ]
  },
  {
   "cell_type": "code",
   "execution_count": 17,
   "id": "dee91196",
   "metadata": {},
   "outputs": [
    {
     "name": "stdout",
     "output_type": "stream",
     "text": [
      "Accuracy with L1 Regularization: 0.475\n",
      "Classification Report:\n",
      "               precision    recall  f1-score   support\n",
      "\n",
      "          In       0.49      0.44      0.46       103\n",
      "         Out       0.46      0.52      0.49        97\n",
      "\n",
      "    accuracy                           0.48       200\n",
      "   macro avg       0.48      0.48      0.47       200\n",
      "weighted avg       0.48      0.47      0.47       200\n",
      "\n"
     ]
    }
   ],
   "source": [
    "log_reg_l1 = LogisticRegression(penalty='l1', solver='liblinear', C=1.0, max_iter=1000)\n",
    "\n",
    "# Train the model with L1 regularization\n",
    "log_reg_l1.fit(X_train_tfidf, y_train)\n",
    "\n",
    "# Make predictions\n",
    "y_pred_l1 = log_reg_l1.predict(X_test_tfidf)\n",
    "\n",
    "# Evaluate\n",
    "print(\"Accuracy with L1 Regularization:\", accuracy_score(y_test, y_pred_l1))\n",
    "print(\"Classification Report:\\n\", classification_report(y_test, y_pred_l1))"
   ]
  },
  {
   "cell_type": "code",
   "execution_count": 18,
   "id": "b27c6a52",
   "metadata": {},
   "outputs": [
    {
     "name": "stdout",
     "output_type": "stream",
     "text": [
      "Accuracy: 0.495\n",
      "Classification Report:\n",
      "               precision    recall  f1-score   support\n",
      "\n",
      "          In       0.51      0.48      0.49       103\n",
      "         Out       0.48      0.52      0.50        97\n",
      "\n",
      "    accuracy                           0.49       200\n",
      "   macro avg       0.50      0.50      0.49       200\n",
      "weighted avg       0.50      0.49      0.49       200\n",
      "\n"
     ]
    }
   ],
   "source": [
    "og_reg = LogisticRegression(penalty='l2', C=1.0, max_iter=1000)\n",
    "\n",
    "# Train the model\n",
    "log_reg.fit(X_train_tfidf, y_train)\n",
    "\n",
    "# Make predictions on the test set\n",
    "y_pred = log_reg.predict(X_test_tfidf)\n",
    "\n",
    "# Evaluate the model\n",
    "accuracy = accuracy_score(y_test, y_pred)\n",
    "print(\"Accuracy:\", accuracy)\n",
    "print(\"Classification Report:\\n\", classification_report(y_test, y_pred))"
   ]
  },
  {
   "cell_type": "code",
   "execution_count": null,
   "id": "6bdd9998",
   "metadata": {},
   "outputs": [],
   "source": []
  }
 ],
 "metadata": {
  "kernelspec": {
   "display_name": "Python 3",
   "language": "python",
   "name": "python3"
  },
  "language_info": {
   "codemirror_mode": {
    "name": "ipython",
    "version": 3
   },
   "file_extension": ".py",
   "mimetype": "text/x-python",
   "name": "python",
   "nbconvert_exporter": "python",
   "pygments_lexer": "ipython3",
   "version": "3.8.8"
  }
 },
 "nbformat": 4,
 "nbformat_minor": 5
}
